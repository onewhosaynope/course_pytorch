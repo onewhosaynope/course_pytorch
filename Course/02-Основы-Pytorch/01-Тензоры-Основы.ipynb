{
 "cells": [
  {
   "cell_type": "markdown",
   "metadata": {
    "lang": "ru"
   },
   "source": [
    "# Основы тензорной системы\n",
    "В этом разделе рассматриваются:\n",
    "* Преобразование массивов NumPy в тензоры PyTorch \n",
    "* Создание тензоров с нуля\n",
    "\n",
    "## Выполните стандартный импорт"
   ]
  },
  {
   "cell_type": "code",
   "execution_count": 1,
   "metadata": {},
   "outputs": [],
   "source": [
    "import torch\n",
    "import numpy as np"
   ]
  },
  {
   "cell_type": "markdown",
   "metadata": {
    "lang": "ru"
   },
   "source": [
    "Убедитесь, что вы используете PyTorch версии 1.1.0."
   ]
  },
  {
   "cell_type": "code",
   "execution_count": 2,
   "metadata": {},
   "outputs": [
    {
     "data": {
      "text/plain": [
       "'1.1.0'"
      ]
     },
     "execution_count": 2,
     "metadata": {},
     "output_type": "execute_result"
    }
   ],
   "source": [
    "torch.__version__"
   ]
  },
  {
   "cell_type": "markdown",
   "metadata": {
    "lang": "ru"
   },
   "source": [
    "## Преобразование массивов NumPy в тензоры PyTorch\n",
    "<a href='https://pytorch.org/docs/stable/tensors.html'><strong><tt>torch.Tensor</tt></strong></a> - это многомерная матрица, содержащая элементы одного типа данных. <br>\n",
    "Вычисления между тензорами возможны только в том случае, если тензоры имеют один и тот же dtype.<br>\n",
    "В некоторых случаях тензоры используются в качестве замены NumPy для использования мощности графических процессоров (подробнее об этом позже)."
   ]
  },
  {
   "cell_type": "code",
   "execution_count": 3,
   "metadata": {},
   "outputs": [
    {
     "name": "stdout",
     "output_type": "stream",
     "text": [
      "[1 2 3 4 5]\n",
      "int32\n",
      "<class 'numpy.ndarray'>\n"
     ]
    }
   ],
   "source": [
    "arr = np.array([1,2,3,4,5])\n",
    "print(arr)\n",
    "print(arr.dtype)\n",
    "print(type(arr))"
   ]
  },
  {
   "cell_type": "code",
   "execution_count": 4,
   "metadata": {},
   "outputs": [
    {
     "name": "stdout",
     "output_type": "stream",
     "text": [
      "tensor([1, 2, 3, 4, 5], dtype=torch.int32)\n"
     ]
    }
   ],
   "source": [
    "x = torch.from_numpy(arr)\n",
    "# Equivalent to x = torch.as_tensor(arr)\n",
    "\n",
    "print(x)"
   ]
  },
  {
   "cell_type": "code",
   "execution_count": 5,
   "metadata": {},
   "outputs": [
    {
     "name": "stdout",
     "output_type": "stream",
     "text": [
      "torch.int32\n"
     ]
    }
   ],
   "source": [
    "# Print the type of data held by the tensor\n",
    "print(x.dtype)"
   ]
  },
  {
   "cell_type": "code",
   "execution_count": 6,
   "metadata": {},
   "outputs": [
    {
     "name": "stdout",
     "output_type": "stream",
     "text": [
      "<class 'torch.Tensor'>\n",
      "torch.IntTensor\n"
     ]
    }
   ],
   "source": [
    "# Print the tensor object type\n",
    "print(type(x))\n",
    "print(x.type()) # this is more specific!"
   ]
  },
  {
   "cell_type": "code",
   "execution_count": 7,
   "metadata": {},
   "outputs": [
    {
     "name": "stdout",
     "output_type": "stream",
     "text": [
      "[[ 0.  1.  2.]\n",
      " [ 3.  4.  5.]\n",
      " [ 6.  7.  8.]\n",
      " [ 9. 10. 11.]]\n"
     ]
    }
   ],
   "source": [
    "arr2 = np.arange(0.,12.).reshape(4,3)\n",
    "print(arr2)"
   ]
  },
  {
   "cell_type": "code",
   "execution_count": 8,
   "metadata": {},
   "outputs": [
    {
     "name": "stdout",
     "output_type": "stream",
     "text": [
      "tensor([[ 0.,  1.,  2.],\n",
      "        [ 3.,  4.,  5.],\n",
      "        [ 6.,  7.,  8.],\n",
      "        [ 9., 10., 11.]], dtype=torch.float64)\n",
      "torch.DoubleTensor\n"
     ]
    }
   ],
   "source": [
    "x2 = torch.from_numpy(arr2)\n",
    "print(x2)\n",
    "print(x2.type())"
   ]
  },
  {
   "cell_type": "markdown",
   "metadata": {
    "lang": "ru"
   },
   "source": [
    "Здесь <tt>torch.DoubleTensor</tt> относится к 64-битным данным с плавающей запятой."
   ]
  },
  {
   "cell_type": "markdown",
   "metadata": {},
   "source": [
    "<h2><a href='https://pytorch.org/docs/stable/tensors.html'>Tensor Datatypes</a></h2>\n",
    "<table style=\"display: inline-block\">\n",
    "<tr><th>TYPE</th><th>NAME</th><th>EQUIVALENT</th><th>TENSOR TYPE</th></tr>\n",
    "<tr><td>32-bit integer (signed)</td><td>torch.int32</td><td>torch.int</td><td>IntTensor</td></tr>\n",
    "<tr><td>64-bit integer (signed)</td><td>torch.int64</td><td>torch.long</td><td>LongTensor</td></tr>\n",
    "<tr><td>16-bit integer (signed)</td><td>torch.int16</td><td>torch.short</td><td>ShortTensor</td></tr>\n",
    "<tr><td>32-bit floating point</td><td>torch.float32</td><td>torch.float</td><td>FloatTensor</td></tr>\n",
    "<tr><td>64-bit floating point</td><td>torch.float64</td><td>torch.double</td><td>DoubleTensor</td></tr>\n",
    "<tr><td>16-bit floating point</td><td>torch.float16</td><td>torch.half</td><td>HalfTensor</td></tr>\n",
    "<tr><td>8-bit integer (signed)</td><td>torch.int8</td><td></td><td>CharTensor</td></tr>\n",
    "<tr><td>8-bit integer (unsigned)</td><td>torch.uint8</td><td></td><td>ByteTensor</td></tr></table>"
   ]
  },
  {
   "cell_type": "markdown",
   "metadata": {
    "lang": "ru"
   },
   "source": [
    "## Копирование или совместное использование"
   ]
  },
  {
   "cell_type": "markdown",
   "metadata": {
    "lang": "ru"
   },
   "source": [
    "<a href='https://pytorch.org/docs/stable/torch.html#torch.from_numpy'><strong><tt>torch.from _numpy () </tt></strong></a><br>\n",
    "<a href='https://pytorch.org/docs/stable/torch.html#torch.as_tensor'><strong><tt>torch.as_ тензор () </tt></strong></a><br>\n",
    "<a href='https://pytorch.org/docs/stable/torch.html#torch.tensor'><strong><tt>torch.tensor () </tt></strong></a><br>\n",
    "\n",
    "Существует ряд различных функций, доступных для <a href='https://pytorch.org/docs/stable/torch.html#creation-ops'>создания тензоров</a>. При использовании <a href='https://pytorch.org/docs/stable/torch.html#torch.from_numpy'><strong><tt>torch.from _numpy () </tt></strong></a> и <a href='https://pytorch.org/docs/stable/torch.html#torch.as_tensor'><strong><tt>torch.as_ tensor () </tt></strong></a>, исходный массив Numpy и тензор Numpy используют одну и ту же память. Это означает, что изменения одного влияют на другого. Однако функция <a href='https://pytorch.org/docs/stable/torch.html#torch.tensor'><strong><tt>torch.tensor () </tt></strong></a> всегда делает копию."
   ]
  },
  {
   "cell_type": "code",
   "execution_count": 9,
   "metadata": {},
   "outputs": [
    {
     "name": "stdout",
     "output_type": "stream",
     "text": [
      "tensor([0, 1, 2, 3, 4], dtype=torch.int32)\n"
     ]
    }
   ],
   "source": [
    "# Using torch.from_numpy()\n",
    "arr = np.arange(0,5)\n",
    "t = torch.from_numpy(arr)\n",
    "print(t)"
   ]
  },
  {
   "cell_type": "code",
   "execution_count": 10,
   "metadata": {},
   "outputs": [
    {
     "name": "stdout",
     "output_type": "stream",
     "text": [
      "tensor([ 0,  1, 77,  3,  4], dtype=torch.int32)\n"
     ]
    }
   ],
   "source": [
    "arr[2]=77\n",
    "print(t)"
   ]
  },
  {
   "cell_type": "code",
   "execution_count": 11,
   "metadata": {},
   "outputs": [
    {
     "name": "stdout",
     "output_type": "stream",
     "text": [
      "tensor([0, 1, 2, 3, 4], dtype=torch.int32)\n"
     ]
    }
   ],
   "source": [
    "# Using torch.tensor()\n",
    "arr = np.arange(0,5)\n",
    "t = torch.tensor(arr)\n",
    "print(t)"
   ]
  },
  {
   "cell_type": "code",
   "execution_count": 12,
   "metadata": {},
   "outputs": [
    {
     "name": "stdout",
     "output_type": "stream",
     "text": [
      "tensor([0, 1, 2, 3, 4], dtype=torch.int32)\n"
     ]
    }
   ],
   "source": [
    "arr[2]=77\n",
    "print(t)"
   ]
  },
  {
   "cell_type": "markdown",
   "metadata": {
    "lang": "en"
   },
   "source": [
    "## Class constructors\n",
    "<a href='https://pytorch.org/docs/stable/tensors.html'><strong><tt>torch.Tensor()</tt></strong></a><br>\n",
    "<a href='https://pytorch.org/docs/stable/tensors.html'><strong><tt>torch.FloatTensor()</tt></strong></a><br>\n",
    "<a href='https://pytorch.org/docs/stable/tensors.html'><strong><tt>torch.LongTensor()</tt></strong></a>, etc.<br>\n",
    "\n",
    "There's a subtle difference between using the factory function <font color=black><tt>torch.tensor(data)</tt></font> and the class constructor <font color=black><tt>torch.Tensor(data)</tt></font>.<br>\n",
    "The factory function determines the dtype from the incoming data, or from a passed-in dtype argument.<br>\n",
    "The class constructor <tt>torch.Tensor()</tt>is simply an alias for <tt>torch.FloatTensor(data)</tt>. Consider the following:"
   ]
  },
  {
   "cell_type": "markdown",
   "metadata": {
    "lang": "ru"
   },
   "source": [
    "## Конструкторы классов\n",
    "<a href='https://pytorch.org/docs/stable/tensors.html'><strong><tt>torch.Tensor() </tt></strong></a><br>\n",
    "<a href='https://pytorch.org/docs/stable/tensors.html'><strong><tt>torch.FloatTensor() </tt></strong></a><br>\n",
    "<a href='https://pytorch.org/docs/stable/tensors.html'><strong><tt>torch.LongTensor() </tt></strong></a> и т. д. <br>\n",
    "\n",
    "Есть небольшая разница между использованием фабричной функции <font color=black><tt>torch.tensor(data)</tt></font> и конструктора класса <font color=black><tt>torch.Tensor(data)</tt></font>.<br>\n",
    "Заводская функция определяет dtype из входящих данных или из переданного аргумента dtype. <br>\n",
    "Конструктор класса <tt>torch.Tensor()</tt> - это просто псевдоним для <tt>torch.FloatTensor(data)</tt>. Учтите следующее:"
   ]
  },
  {
   "cell_type": "code",
   "execution_count": 13,
   "metadata": {},
   "outputs": [],
   "source": [
    "data = np.array([1,2,3])"
   ]
  },
  {
   "cell_type": "code",
   "execution_count": 14,
   "metadata": {},
   "outputs": [
    {
     "name": "stdout",
     "output_type": "stream",
     "text": [
      "tensor([1., 2., 3.]) torch.FloatTensor\n"
     ]
    }
   ],
   "source": [
    "a = torch.Tensor(data)  # Equivalent to cc = torch.FloatTensor(data)\n",
    "print(a, a.type())"
   ]
  },
  {
   "cell_type": "code",
   "execution_count": 15,
   "metadata": {},
   "outputs": [
    {
     "name": "stdout",
     "output_type": "stream",
     "text": [
      "tensor([1, 2, 3], dtype=torch.int32) torch.IntTensor\n"
     ]
    }
   ],
   "source": [
    "b = torch.tensor(data)\n",
    "print(b, b.type())"
   ]
  },
  {
   "cell_type": "code",
   "execution_count": 16,
   "metadata": {},
   "outputs": [
    {
     "name": "stdout",
     "output_type": "stream",
     "text": [
      "tensor([1, 2, 3]) torch.LongTensor\n"
     ]
    }
   ],
   "source": [
    "c = torch.tensor(data, dtype=torch.long)\n",
    "print(c, c.type())"
   ]
  },
  {
   "cell_type": "markdown",
   "metadata": {
    "lang": "ru"
   },
   "source": [
    "## Создание тензоров с нуля\n",
    "### Неинициализированные тензоры с <tt>.empty () </tt>\n",
    "<a href='https://pytorch.org/docs/stable/torch.html#torch.empty'><strong><tt>torch.empty()</tt></strong></a> возвращает <em>неинициализированный</em> тензор. По сути, блок памяти выделяется в соответствии с размером тензора, и возвращаются любые значения, уже находящиеся в блоке. Это похоже на поведение <tt>numpy.empty () </tt>."
   ]
  },
  {
   "cell_type": "code",
   "execution_count": 17,
   "metadata": {},
   "outputs": [
    {
     "name": "stdout",
     "output_type": "stream",
     "text": [
      "tensor([[0., 0., 0.],\n",
      "        [0., 0., 0.],\n",
      "        [0., 0., 0.],\n",
      "        [0., 0., 0.]])\n"
     ]
    }
   ],
   "source": [
    "x = torch.empty(4, 3)\n",
    "print(x)"
   ]
  },
  {
   "cell_type": "markdown",
   "metadata": {
    "lang": "ru"
   },
   "source": [
    "### Инициализированные тензоры с <tt>.zeros () </tt> и <tt>.ones () </tt>\n",
    "<a href='https://pytorch.org/docs/stable/torch.html#torch.zeros'><strong><tt>torch.zeros(размер) </tt></strong></a><br>\n",
    "<a href='https://pytorch.org/docs/stable/torch.html#torch.ones'><strong><tt>torch.ones(размер) </tt></strong></a><br>\n",
    "Хорошая идея - передать предполагаемый dtype."
   ]
  },
  {
   "cell_type": "code",
   "execution_count": 18,
   "metadata": {},
   "outputs": [
    {
     "name": "stdout",
     "output_type": "stream",
     "text": [
      "tensor([[0, 0, 0],\n",
      "        [0, 0, 0],\n",
      "        [0, 0, 0],\n",
      "        [0, 0, 0]])\n"
     ]
    }
   ],
   "source": [
    "x = torch.zeros(4, 3, dtype=torch.int64)\n",
    "print(x)"
   ]
  },
  {
   "cell_type": "markdown",
   "metadata": {
    "lang": "en"
   },
   "source": [
    "### Tensors from ranges\n",
    "<a href='https://pytorch.org/docs/stable/torch.html#torch.arange'><strong><tt>torch.arange(start,end,step)</tt></strong></a><br>\n",
    "<a href='https://pytorch.org/docs/stable/torch.html#torch.linspace'><strong><tt>torch.linspace(start,end,steps)</tt></strong></a><br>\n",
    "Note that with <tt>.arange()</tt>, <tt>end</tt> is exclusive, while with <tt>linspace()</tt>, <tt>end</tt> is inclusive."
   ]
  },
  {
   "cell_type": "markdown",
   "metadata": {
    "lang": "ru"
   },
   "source": [
    "### Тензоры из диапазонов\n",
    "<a href='https://pytorch.org/docs/stable/torch.html#torch.arange'><strong><tt>torch.arange(начало, конец, шаг) </tt></strong></a><br>\n",
    "<a href='https://pytorch.org/docs/stable/torch.html#torch.linspace'><strong><tt>torch.linspace(начало, конец, шаги) </tt></strong></a><br>\n",
    "Обратите внимание, что с <tt>.arange()</tt>, <tt>конец</tt> является эксклюзивным, в то время как с <tt>linspace()</tt>, <tt>конец</tt> является включенным."
   ]
  },
  {
   "cell_type": "code",
   "execution_count": 19,
   "metadata": {},
   "outputs": [
    {
     "name": "stdout",
     "output_type": "stream",
     "text": [
      "tensor([[ 0,  2,  4],\n",
      "        [ 6,  8, 10],\n",
      "        [12, 14, 16]])\n"
     ]
    }
   ],
   "source": [
    "x = torch.arange(0,18,2).reshape(3,3)\n",
    "print(x)"
   ]
  },
  {
   "cell_type": "code",
   "execution_count": 20,
   "metadata": {},
   "outputs": [
    {
     "name": "stdout",
     "output_type": "stream",
     "text": [
      "tensor([[ 0.0000,  1.6364,  3.2727,  4.9091],\n",
      "        [ 6.5455,  8.1818,  9.8182, 11.4545],\n",
      "        [13.0909, 14.7273, 16.3636, 18.0000]])\n"
     ]
    }
   ],
   "source": [
    "x = torch.linspace(0,18,12).reshape(3,4)\n",
    "print(x)"
   ]
  },
  {
   "cell_type": "markdown",
   "metadata": {
    "lang": "ru"
   },
   "source": [
    "### Тензоры из данных\n",
    "<tt>torch.tensor()</tt> подберет dtype на основе входящих данных:"
   ]
  },
  {
   "cell_type": "code",
   "execution_count": 21,
   "metadata": {},
   "outputs": [
    {
     "name": "stdout",
     "output_type": "stream",
     "text": [
      "tensor([1, 2, 3, 4])\n",
      "torch.int64\n",
      "torch.LongTensor\n"
     ]
    }
   ],
   "source": [
    "x = torch.tensor([1, 2, 3, 4])\n",
    "print(x)\n",
    "print(x.dtype)\n",
    "print(x.type())"
   ]
  },
  {
   "cell_type": "markdown",
   "metadata": {
    "lang": "ru"
   },
   "source": [
    "В качестве альтернативы вы можете установить тип с помощью используемого метода тензора.\n",
    "Список типов тензоров можно найти на https://pytorch.org/docs/stable/tensors.html."
   ]
  },
  {
   "cell_type": "code",
   "execution_count": 22,
   "metadata": {},
   "outputs": [
    {
     "name": "stdout",
     "output_type": "stream",
     "text": [
      "tensor([5., 6., 7.])\n",
      "torch.float32\n",
      "torch.FloatTensor\n"
     ]
    }
   ],
   "source": [
    "x = torch.FloatTensor([5,6,7])\n",
    "print(x)\n",
    "print(x.dtype)\n",
    "print(x.type())"
   ]
  },
  {
   "cell_type": "markdown",
   "metadata": {
    "lang": "ru"
   },
   "source": [
    "Вы также можете передать dtype в качестве аргумента. Чтобы просмотреть список типов dtypes, посетите https://pytorch.org/docs/stable/tensor_attributes.html#torch.torch.dtype<br>."
   ]
  },
  {
   "cell_type": "code",
   "execution_count": 23,
   "metadata": {},
   "outputs": [
    {
     "name": "stdout",
     "output_type": "stream",
     "text": [
      "tensor([ 8,  9, -3], dtype=torch.int32)\n",
      "torch.int32\n",
      "torch.IntTensor\n"
     ]
    }
   ],
   "source": [
    "x = torch.tensor([8,9,-3], dtype=torch.int)\n",
    "print(x)\n",
    "print(x.dtype)\n",
    "print(x.type())"
   ]
  },
  {
   "cell_type": "markdown",
   "metadata": {
    "lang": "en"
   },
   "source": [
    "### Changing the dtype of existing tensors\n",
    "Don't be tempted to use <tt>x = torch.tensor(x, dtype=torch.type)</tt> as it will raise an error about improper use of tensor cloning.<br>\n",
    "Instead, use the tensor <tt>.type()</tt> method."
   ]
  },
  {
   "cell_type": "markdown",
   "metadata": {
    "lang": "ru"
   },
   "source": [
    "### Изменение dtype существующих тензоров\n",
    "Не поддавайтесь соблазну использовать <tt>x = torch.tensor (x, dtype = torch.type)</tt>, так как это даст ошибку о неправильном использовании тензорного клонирования.<br>.\n",
    "Вместо этого используйте тензорный метод <tt>.type()</tt>."
   ]
  },
  {
   "cell_type": "code",
   "execution_count": 24,
   "metadata": {},
   "outputs": [
    {
     "name": "stdout",
     "output_type": "stream",
     "text": [
      "Old: torch.IntTensor\n",
      "New: torch.LongTensor\n"
     ]
    }
   ],
   "source": [
    "print('Old:', x.type())\n",
    "\n",
    "x = x.type(torch.int64)\n",
    "\n",
    "print('New:', x.type())"
   ]
  },
  {
   "cell_type": "markdown",
   "metadata": {
    "lang": "en"
   },
   "source": [
    "### Random number tensors\n",
    "<a href='https://pytorch.org/docs/stable/torch.html#torch.rand'><strong><tt>torch.rand(size)</tt></strong></a> returns random samples from a uniform distribution over [0, 1)<br>\n",
    "<a href='https://pytorch.org/docs/stable/torch.html#torch.randn'><strong><tt>torch.randn(size)</tt></strong></a> returns samples from the \"standard normal\" distribution [σ = 1]<br>\n",
    "&nbsp;&nbsp;&nbsp;&nbsp;Unlike <tt>rand</tt> which is uniform, values closer to zero are more likely to appear.<br>\n",
    "<a href='https://pytorch.org/docs/stable/torch.html#torch.randint'><strong><tt>torch.randint(low,high,size)</tt></strong></a> returns random integers from low (inclusive) to high (exclusive)"
   ]
  },
  {
   "cell_type": "markdown",
   "metadata": {
    "lang": "ru"
   },
   "source": [
    "### Тензоры случайных чисел\n",
    "<a href='https://pytorch.org/docs/stable/torch.html#torch.rand'><strong><tt>torch.rand(size)</tt></strong></a> возвращает случайные выборки из равномерного распределения по [0, 1) <br>\n",
    "<a href='https://pytorch.org/docs/stable/torch.html#torch.randn'><strong><tt>torch.randn(size)</tt></strong></a> возвращает образцы из \"стандартного нормального\" распределения [σ = 1] <br>\n",
    "В отличие от <tt>rand</tt>, который является однородным, более вероятно появление значений, близких к нулю.\n",
    "<br><a href='https://pytorch.org/docs/stable/torch.html#torch.randint'><strong><tt>torch.randint (low, high, size) </tt></strong></a> возвращает случайные целые числа от low (включительно) до high (исключительного)"
   ]
  },
  {
   "cell_type": "code",
   "execution_count": 25,
   "metadata": {},
   "outputs": [
    {
     "name": "stdout",
     "output_type": "stream",
     "text": [
      "tensor([[0.0211, 0.2336, 0.6775],\n",
      "        [0.4790, 0.5132, 0.9878],\n",
      "        [0.7552, 0.0789, 0.1860],\n",
      "        [0.6712, 0.1564, 0.3753]])\n"
     ]
    }
   ],
   "source": [
    "x = torch.rand(4, 3)\n",
    "print(x)"
   ]
  },
  {
   "cell_type": "code",
   "execution_count": 26,
   "metadata": {},
   "outputs": [
    {
     "name": "stdout",
     "output_type": "stream",
     "text": [
      "tensor([[ 0.7164, -0.1538, -0.9980],\n",
      "        [-1.8252,  1.1863, -0.1523],\n",
      "        [ 1.4093, -0.0212, -1.5598],\n",
      "        [ 0.1831, -0.6961,  1.3497]])\n"
     ]
    }
   ],
   "source": [
    "x = torch.randn(4, 3)\n",
    "print(x)"
   ]
  },
  {
   "cell_type": "code",
   "execution_count": 27,
   "metadata": {},
   "outputs": [
    {
     "name": "stdout",
     "output_type": "stream",
     "text": [
      "tensor([[0, 3, 0],\n",
      "        [1, 3, 4],\n",
      "        [1, 2, 3],\n",
      "        [4, 4, 3]])\n"
     ]
    }
   ],
   "source": [
    "x = torch.randint(0, 5, (4, 3))\n",
    "print(x)"
   ]
  },
  {
   "cell_type": "markdown",
   "metadata": {
    "lang": "en"
   },
   "source": [
    "### Random number tensors that follow the input size\n",
    "<a href='https://pytorch.org/docs/stable/torch.html#torch.rand_like'><strong><tt>torch.rand_like(input)</tt></strong></a><br>\n",
    "<a href='https://pytorch.org/docs/stable/torch.html#torch.randn_like'><strong><tt>torch.randn_like(input)</tt></strong></a><br>\n",
    "<a href='https://pytorch.org/docs/stable/torch.html#torch.randint_like'><strong><tt>torch.randint_like(input,low,high)</tt></strong></a><br> these return random number tensors with the same size as <tt>input</tt>"
   ]
  },
  {
   "cell_type": "markdown",
   "metadata": {
    "lang": "ru"
   },
   "source": [
    "### Тензоры случайных чисел, повторяющие размерность ввода\n",
    "<a href='https://pytorch.org/docs/stable/torch.html#torch.rand_like'><strong><tt>torch.rand _как (ввод) </tt></strong></a><br>\n",
    "<a href='https://pytorch.org/docs/stable/torch.html#torch.randn_like'><strong><tt>torch.randn_ like (ввод) </tt></strong></a><br>\n",
    "<a href='https://pytorch.org/docs/stable/torch.html#torch.randint_like'><strong><tt>torch.randint_like (input, low, high) </tt></strong></a><br> они возвращают тензоры случайных чисел того же размера, что и <tt>input</tt>"
   ]
  },
  {
   "cell_type": "code",
   "execution_count": 28,
   "metadata": {},
   "outputs": [
    {
     "name": "stdout",
     "output_type": "stream",
     "text": [
      "tensor([[0., 0., 0., 0., 0.],\n",
      "        [0., 0., 0., 0., 0.]])\n"
     ]
    }
   ],
   "source": [
    "x = torch.zeros(2,5)\n",
    "print(x)"
   ]
  },
  {
   "cell_type": "code",
   "execution_count": 29,
   "metadata": {},
   "outputs": [
    {
     "name": "stdout",
     "output_type": "stream",
     "text": [
      "tensor([[-0.5442, -0.3149,  0.0922,  1.1829, -0.7873],\n",
      "        [ 0.3143,  0.9465,  0.4534,  0.4623,  2.2044]])\n"
     ]
    }
   ],
   "source": [
    "x2 = torch.randn_like(x)\n",
    "print(x2)"
   ]
  },
  {
   "cell_type": "markdown",
   "metadata": {
    "lang": "en"
   },
   "source": [
    "The same syntax can be used with<br>\n",
    "<a href='https://pytorch.org/docs/stable/torch.html#torch.zeros_like'><strong><tt>torch.zeros_like(input)</tt></strong></a><br>\n",
    "<a href='https://pytorch.org/docs/stable/torch.html#torch.ones_like'><strong><tt>torch.ones_like(input)</tt></strong></a>"
   ]
  },
  {
   "cell_type": "markdown",
   "metadata": {
    "lang": "ru"
   },
   "source": [
    "Тот же синтаксис можно использовать с <br>\n",
    "<a href='https://pytorch.org/docs/stable/torch.html#torch.zeros_like'><strong><tt>torch.zeros_like(ввод) </tt></strong></a><br>\n",
    "<a href='https://pytorch.org/docs/stable/torch.html#torch.ones_like'><strong><tt>torch.ones_like(ввод) </tt></strong></a>"
   ]
  },
  {
   "cell_type": "code",
   "execution_count": 30,
   "metadata": {},
   "outputs": [
    {
     "name": "stdout",
     "output_type": "stream",
     "text": [
      "tensor([[1., 1., 1., 1., 1.],\n",
      "        [1., 1., 1., 1., 1.]])\n"
     ]
    }
   ],
   "source": [
    "x3 = torch.ones_like(x2)\n",
    "print(x3)"
   ]
  },
  {
   "cell_type": "markdown",
   "metadata": {
    "lang": "ru"
   },
   "source": [
    "### Установка случайного начального числа\n",
    "<a href='https://pytorch.org/docs/stable/torch.html#torch.manual_seed'><strong><tt>torch.manual_seed (int) </tt></strong></a> используется для получения воспроизводимых результатов"
   ]
  },
  {
   "cell_type": "code",
   "execution_count": 31,
   "metadata": {},
   "outputs": [
    {
     "name": "stdout",
     "output_type": "stream",
     "text": [
      "tensor([[0.8823, 0.9150, 0.3829],\n",
      "        [0.9593, 0.3904, 0.6009]])\n"
     ]
    }
   ],
   "source": [
    "torch.manual_seed(42)\n",
    "x = torch.rand(2, 3)\n",
    "print(x)"
   ]
  },
  {
   "cell_type": "code",
   "execution_count": 32,
   "metadata": {},
   "outputs": [
    {
     "name": "stdout",
     "output_type": "stream",
     "text": [
      "tensor([[0.8823, 0.9150, 0.3829],\n",
      "        [0.9593, 0.3904, 0.6009]])\n"
     ]
    }
   ],
   "source": [
    "torch.manual_seed(42)\n",
    "x = torch.rand(2, 3)\n",
    "print(x)"
   ]
  },
  {
   "cell_type": "markdown",
   "metadata": {
    "lang": "ru"
   },
   "source": [
    "## Тензорные атрибуты\n",
    "Помимо <tt>dtype</tt>, мы можем посмотреть другие атрибуты <a href='https://pytorch.org/docs/stable/tensor_attributes.html'>тензоров</a>, такие как <tt>shape</tt>, <tt>device</tt> и <tt>layout</tt>."
   ]
  },
  {
   "cell_type": "code",
   "execution_count": 33,
   "metadata": {},
   "outputs": [
    {
     "data": {
      "text/plain": [
       "torch.Size([2, 3])"
      ]
     },
     "execution_count": 33,
     "metadata": {},
     "output_type": "execute_result"
    }
   ],
   "source": [
    "x.shape"
   ]
  },
  {
   "cell_type": "code",
   "execution_count": 34,
   "metadata": {},
   "outputs": [
    {
     "data": {
      "text/plain": [
       "torch.Size([2, 3])"
      ]
     },
     "execution_count": 34,
     "metadata": {},
     "output_type": "execute_result"
    }
   ],
   "source": [
    "x.size()  # equivalent to x.shape"
   ]
  },
  {
   "cell_type": "code",
   "execution_count": 35,
   "metadata": {},
   "outputs": [
    {
     "data": {
      "text/plain": [
       "device(type='cpu')"
      ]
     },
     "execution_count": 35,
     "metadata": {},
     "output_type": "execute_result"
    }
   ],
   "source": [
    "x.device"
   ]
  },
  {
   "cell_type": "markdown",
   "metadata": {
    "lang": "ru"
   },
   "source": [
    "PyTorch поддерживает использование нескольких <a href='https://pytorch.org/docs/stable/tensor_attributes.html#torch-device'>устройств</a>, используя мощность одного или нескольких GPU в дополнение к CPU. Мы не будем рассматривать это здесь, но вы должны знать, что операции между тензорами могут происходить только для тензоров, установленных на одном устройстве."
   ]
  },
  {
   "cell_type": "code",
   "execution_count": 36,
   "metadata": {
    "scrolled": true
   },
   "outputs": [
    {
     "data": {
      "text/plain": [
       "torch.strided"
      ]
     },
     "execution_count": 36,
     "metadata": {},
     "output_type": "execute_result"
    }
   ],
   "source": [
    "x.layout"
   ]
  },
  {
   "cell_type": "markdown",
   "metadata": {
    "lang": "ru"
   },
   "source": [
    "PyTorch имеет класс для хранения параметра <a href='https://pytorch.org/docs/stable/tensor_attributes.html#torch.torch.layout'>memory layout</a>. Настройка по умолчанию <a href='https://en.wikipedia.org/wiki/Stride_of_an_array'>strided</a> будет соответствовать нашим целям на протяжении всего курса."
   ]
  }
 ],
 "metadata": {
  "kernelspec": {
   "display_name": "Python 3",
   "language": "python",
   "name": "python3"
  },
  "language_info": {
   "codemirror_mode": {
    "name": "ipython",
    "version": 3
   },
   "file_extension": ".py",
   "mimetype": "text/x-python",
   "name": "python",
   "nbconvert_exporter": "python",
   "pygments_lexer": "ipython3",
   "version": "3.7.3"
  },
  "latex_envs": {
   "LaTeX_envs_menu_present": true,
   "autoclose": false,
   "autocomplete": true,
   "bibliofile": "biblio.bib",
   "cite_by": "apalike",
   "current_citInitial": 1,
   "eqLabelWithNumbers": true,
   "eqNumInitial": 1,
   "hotkeys": {
    "equation": "Ctrl-E",
    "itemize": "Ctrl-I"
   },
   "labels_anchors": false,
   "latex_user_defs": false,
   "report_style_numbering": false,
   "user_envs_cfg": false
  },
  "nbTranslate": {
   "displayLangs": [
    "ru"
   ],
   "hotkey": "alt-t",
   "langInMainMenu": true,
   "sourceLang": "en",
   "targetLang": "ru",
   "useGoogleTranslate": true
  }
 },
 "nbformat": 4,
 "nbformat_minor": 2
}
